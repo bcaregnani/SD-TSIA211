{
 "cells": [
  {
   "cell_type": "markdown",
   "id": "d389cc95",
   "metadata": {},
   "source": [
    "# SD-TSIA 211\n",
    "## Computer Lab: Natural Language Processing\n",
    "Bruno Pons"
   ]
  },
  {
   "cell_type": "code",
   "execution_count": 173,
   "id": "20e88e69",
   "metadata": {},
   "outputs": [],
   "source": [
    "import numpy as np\n",
    "import scipy.sparse as sp\n",
    "from scipy.linalg import norm, solve\n",
    "from scipy.optimize import check_grad\n",
    "import matplotlib.pyplot as plt\n",
    "import time"
   ]
  },
  {
   "cell_type": "code",
   "execution_count": 174,
   "id": "3fc817ea",
   "metadata": {},
   "outputs": [],
   "source": [
    "def load_data(file_name_matrix='tfidf_matrix_97MB.npz', file_name_feature_names='feature_names_97MB.npy',\n",
    "    file_name_labels='train_labels.npy', samples_in_train_set=10000, samples_in_test_set=137562):\n",
    "    \n",
    "    # Recuperation des donnees\n",
    "    TF_IDF_matrix = sp.load_npz(file_name_matrix)\n",
    "    TF_IDF_feature_names = np.load(file_name_feature_names)\n",
    "    train_labels = np.load(file_name_labels, allow_pickle=True)\n",
    "    train_labels_numeric = ((train_labels == 'Oui') + 0)\n",
    "\n",
    "    X = TF_IDF_matrix[:samples_in_train_set].toarray()\n",
    "    y = train_labels_numeric[:samples_in_train_set] * 2 - 1\n",
    "\n",
    "    X_test = TF_IDF_matrix[samples_in_train_set:samples_in_train_set+samples_in_test_set].toarray()\n",
    "    y_test = train_labels_numeric[samples_in_train_set:samples_in_train_set+samples_in_test_set] * 2 - 1\n",
    "\n",
    "\n",
    "    # Standardisation des données\n",
    "    std_X = np.maximum(np.std(X, axis=0), 1e-7)\n",
    "    X = X / std_X\n",
    "    X_test = X_test / std_X\n",
    "\n",
    "    n = X.shape[0]\n",
    "    n_test = X_test.shape[0]\n",
    "    m = X.shape[1]\n",
    "\n",
    "    # Ajout d'une colonne de uns\n",
    "    eX = np.hstack((np.ones((n,1)), X))\n",
    "    eX_test = np.hstack((np.ones((n_test,1)), X_test))\n",
    "\n",
    "    return eX, y, eX_test, y_test"
   ]
  },
  {
   "cell_type": "markdown",
   "id": "996d7c33",
   "metadata": {},
   "source": [
    "## Question 3.1"
   ]
  },
  {
   "cell_type": "markdown",
   "id": "bda7b57d",
   "metadata": {},
   "source": [
    "The gradient of $f1$ is:\n",
    "$\\nabla f1\\left(w_0, \\mathbf{w}\\right)=\\left(\\begin{array}{c}\n",
    "-\\frac{1}{n}\\sum_{i=1}^n y_i \\sigma\\left(-y_i\\left(\\mathbf{x}_i^{\\top} \\mathbf{w}+w_0\\right)\\right) \\\\\n",
    "-\\frac{1}{n}\\sum_{i=1}^n x_{1 i} y_i \\sigma\\left(-y_i\\left(\\mathbf{x}_i^{\\top} \\mathbf{w}+w_0\\right)\\right)+\\rho w_1 \\\\\n",
    "\\vdots \\\\\n",
    "-\\frac{1}{n}\\sum_{i=1}^n x_{p i} y_i \\sigma\\left(-y_i\\left(\\mathbf{x}_i^{\\top} \\mathbf{w}+w_0\\right)\\right)+\\rho w_p\n",
    "\\end{array}\\right)$ with $\\sigma(x)=\\frac{1}{1+\\exp (-x)}$\n",
    "\n",
    "\n",
    "For calculating the Hessian matrix, we set:\n",
    "\n",
    "$X = [1,\\tilde X] $ where $\\tilde X$ is our original matrix.\n",
    "\n",
    "$w = [w_0 ,\\tilde w]$ where $\\tilde w$ is our original vector variable.\n",
    "\n",
    "$z_k:=y_k\\left(\\mathbf{x}_k^{\\top} \\mathbf{w}\\right)$\n",
    "\n",
    "For the term i=1 and j=1, we differentiate the first term of the gradient with respect to the first variable, in this case $w_0$, then we have:\n",
    "$ \\partial_{1,1} f\\left(w_0, \\mathbf{w}\\right)=\\frac{1}{n}\\sum_{k=1}^n y_k^2 e^{z_k} \\sigma\\left(-z_k\\right)^2 $\n",
    "\n",
    "For the terms i ∈ $[2, p + 1]$ and j = 1 we differentiate the i-th term of the gradient with respect to\n",
    "the first variable, then we have:\n",
    "$\\forall i \\in [ 2, p+1 ], \\partial_{i, 1} f\\left(w_0, \\mathbf{w}\\right)=\\frac{1}{n}\\sum_{k=1}^n x_{i, k} y_k^2 e^{z_k} \\sigma\\left(-z_k\\right)^2$\n",
    "\n",
    "For the terms i,j ∈ $[2, p + 1]$ , $i \\neq j $, we have:\n",
    "\n",
    "$ \\forall i, j \\in [ 2, p+1 ], i \\neq j , \\partial_{i, j} f(\\mathbf{x})=\\frac{1}{n}\\sum_{k=1}^n x_{i, k} x_{j, k} y_k^2 e^{z_k} \\sigma\\left(-z_k\\right)^2 $\n",
    "\n",
    "\n",
    "For the terms i,j ∈ $[2, p + 1]$, $ i = j $, we have:\n",
    "\n",
    "$ \\forall i, j \\in [ 2, p+1 ], i = j , \\partial_{i, i} f(\\mathbf{x})=\\frac{1}{n}\\sum_{k=1}^n x_{i, k}^2 y_k^2 e^{z_k} \\sigma\\left(-z_k\\right)^2 + \\rho $\n",
    "\n",
    "\n",
    "\n",
    "We can rewrite what we have before in a general expresion form:\n",
    "\n",
    "$\\nabla^2 f1(w) = \\frac{1}{n}\\sum_{i=1}^n x_i^T x_i y_i^2 e^{z_k} \\sigma\\left(-z_i\\right)^2 + \\rho I_p - \\rho A$\n",
    "\n",
    "Where A is a matrix with all zeros except in position i=1, j=1 it has 1.\n",
    "\n",
    "As $x_i^T x_i $ is always a PSD matrix, then the hessian matrix is positive semi-definite, so our function is convex."
   ]
  },
  {
   "cell_type": "markdown",
   "id": "706ea752",
   "metadata": {},
   "source": [
    "## Question 3.2"
   ]
  },
  {
   "cell_type": "code",
   "execution_count": 175,
   "id": "3afdcedc",
   "metadata": {},
   "outputs": [],
   "source": [
    "# Load Data\n",
    "X_load, Y_load, X_test, Y_test = load_data()\n",
    "\n",
    "X = X_load\n",
    "Y = Y_load\n",
    "\n",
    "p = X.shape[1]"
   ]
  },
  {
   "cell_type": "markdown",
   "id": "4145acea",
   "metadata": {},
   "source": [
    "Code a function that returns the value of f1 , its gradient and Hessian matrix."
   ]
  },
  {
   "cell_type": "code",
   "execution_count": 176,
   "id": "a7e9e97b",
   "metadata": {},
   "outputs": [],
   "source": [
    "\n",
    "def log_reg(w, _X = X, _Y = Y):\n",
    "    n= X.shape[0]\n",
    "    rho = 1/n\n",
    "    sum = 0\n",
    "    sum = (1/n) * np.sum( np.log(1 + np.exp(-_Y * (_X @ w))))\n",
    "    sum += rho/2 * np.linalg.norm(w[:-1], 2)**2\n",
    "    return sum\n",
    "\n",
    "def grad_log_reg(w, _X = X, _Y = Y):\n",
    "    n= X.shape[0]\n",
    "    rho = 1/n\n",
    "    sum = 0\n",
    "    denominator = 1 + np.exp(_Y * (_X @ w))\n",
    "    sum = (1/n) * np.sum( (-_Y.reshape(len(_Y),1) * _X) / denominator.reshape(len(denominator),1), axis=0 )\n",
    "    sum += rho * np.concatenate((w[:-1], [0]))\n",
    "    return sum\n",
    "\n",
    "def hessian_log_reg(w, _X = X, _Y = Y):\n",
    "    n= X.shape[0]\n",
    "    rho = 1/n\n",
    "    p = X.shape[1]\n",
    "    A = np.zeros(shape=(p,p))\n",
    "    A[0,0] = 1\n",
    "    s = _Y*(_X @ w)\n",
    "    z = np.exp(s)/(1+np.exp(s))**2\n",
    "    sum = (1/n) * (z * _X.T) @ _X + rho * (np.eye(p) - A)\n",
    "    return sum\n",
    "\n"
   ]
  },
  {
   "cell_type": "markdown",
   "id": "354f2191",
   "metadata": {},
   "source": [
    " Testing using the function check grad on a small-dimensional problem."
   ]
  },
  {
   "cell_type": "code",
   "execution_count": 177,
   "id": "86c2f8cb",
   "metadata": {
    "scrolled": true
   },
   "outputs": [
    {
     "name": "stdout",
     "output_type": "stream",
     "text": [
      "The time taken for cheking the gradient =  0.0006492137908935547\n",
      "The error was =  1.5941612932347704e-12\n"
     ]
    }
   ],
   "source": [
    "Y_small = np.array([-1,1,1,1,-1,-1,-1,1,-1,1])\n",
    "X_small = np.random.rand(10,3)\n",
    "w = np.random.rand(3)\n",
    "\n",
    "\n",
    "start = time.time()\n",
    "error = check_grad(log_reg, grad_log_reg, w, X_small, Y_small)\n",
    "\n",
    "\n",
    "print(\"The time taken for cheking the gradient = \",time.time()-start)\n",
    "print(\"The error was = \" , error)"
   ]
  },
  {
   "cell_type": "markdown",
   "id": "bb1e5a1b",
   "metadata": {},
   "source": [
    " Testing using the function check grad on all the data."
   ]
  },
  {
   "cell_type": "code",
   "execution_count": 178,
   "id": "7fe9771a",
   "metadata": {},
   "outputs": [
    {
     "name": "stdout",
     "output_type": "stream",
     "text": [
      "The time taken for cheking the gradient =  1.9817848205566406\n",
      "The error was =  5.196045590409181e-06\n"
     ]
    }
   ],
   "source": [
    "p = X.shape[1]\n",
    "w = np.random.rand(p)\n",
    "\n",
    "\n",
    "start = time.time()\n",
    "\n",
    "error = check_grad(log_reg, grad_log_reg, w, X, Y)\n",
    "\n",
    "print(\"The time taken for cheking the gradient = \",time.time()-start)\n",
    "print(\"The error was = \" , error)"
   ]
  },
  {
   "cell_type": "markdown",
   "id": "0ef75840",
   "metadata": {},
   "source": [
    "In both cases, the square root of the sum of squares of the difference between the gradient and its finite difference approximation is very small, we can conclude that the formulas and computations are coherent."
   ]
  },
  {
   "cell_type": "code",
   "execution_count": 179,
   "id": "0158416b",
   "metadata": {},
   "outputs": [],
   "source": [
    "def check_hessian(grad_func, hessian_func, w):\n",
    "    return check_grad(lambda x: grad_func(x)[0], lambda x: hessian_func(x)[:,0], w)"
   ]
  },
  {
   "cell_type": "code",
   "execution_count": 180,
   "id": "8eedbfda",
   "metadata": {
    "scrolled": false
   },
   "outputs": [
    {
     "data": {
      "text/plain": [
       "9.999954308947177e-05"
      ]
     },
     "execution_count": 180,
     "metadata": {},
     "output_type": "execute_result"
    }
   ],
   "source": [
    "check_hessian(grad_log_reg, hessian_log_reg, w)"
   ]
  },
  {
   "cell_type": "markdown",
   "id": "bd2ddd30",
   "metadata": {},
   "source": [
    "The Hessian function seems to be working."
   ]
  },
  {
   "cell_type": "markdown",
   "id": "ba4c6332",
   "metadata": {},
   "source": [
    "## Question 3.3"
   ]
  },
  {
   "cell_type": "code",
   "execution_count": 181,
   "id": "d8084b9a",
   "metadata": {},
   "outputs": [],
   "source": [
    "def newton_method(x0, eps = 1e-10, max_iter = 50):\n",
    "    x = x0\n",
    "    _iter = 0\n",
    "    norm_arr = []\n",
    "    grad = grad_log_reg(x)\n",
    "    hessian = hessian_log_reg(x)\n",
    "    norm = np.linalg.norm(grad,2)\n",
    "    norm_arr.append(norm)\n",
    "    \n",
    "    while (norm > eps) & (_iter <= max_iter):\n",
    "        _iter += 1\n",
    "        next_dir = np.linalg.inv(hessian) @ grad\n",
    "        x = x - next_dir\n",
    "        grad = grad_log_reg(x)\n",
    "        hessian = hessian_log_reg(x)\n",
    "        norm = np.linalg.norm(grad,2)\n",
    "        norm_arr.append(norm)\n",
    "\n",
    "    \n",
    "    return x, norm_arr\n",
    "        "
   ]
  },
  {
   "cell_type": "code",
   "execution_count": 182,
   "id": "6a2423c7",
   "metadata": {
    "scrolled": false
   },
   "outputs": [],
   "source": [
    "w = np.zeros(p)\n",
    "\n",
    "out_n, norm_arr = newton_method(w)"
   ]
  },
  {
   "cell_type": "code",
   "execution_count": 183,
   "id": "2e3a9830",
   "metadata": {},
   "outputs": [
    {
     "data": {
      "image/png": "[encoded data removed]",
      "text/plain": [
       "<Figure size 432x288 with 1 Axes>"
      ]
     },
     "metadata": {
      "needs_background": "light"
     },
     "output_type": "display_data"
    },
    {
     "name": "stdout",
     "output_type": "stream",
     "text": [
      "The minimizer value is =  0.5681166336576328\n"
     ]
    }
   ],
   "source": [
    "fig, ax = plt.subplots()\n",
    "plt.plot(norm_arr, color=\"b\")\n",
    "plt.xlabel(\"Iteration\")\n",
    "plt.ylabel(\"Gradient's norm\")\n",
    "ax.set_yscale(\"log\")\n",
    "ax.legend([\"Data\"])\n",
    "plt.title(\"Norm of the gradient as a function of iterations in logarithmic scale\")\n",
    "plt.grid()\n",
    "plt.show()\n",
    "\n",
    "print(\"The minimizer value is = \", log_reg(out_n))"
   ]
  },
  {
   "cell_type": "markdown",
   "id": "2d1db211",
   "metadata": {},
   "source": [
    "## Question 3.4"
   ]
  },
  {
   "cell_type": "code",
   "execution_count": 184,
   "id": "00e3ebef",
   "metadata": {},
   "outputs": [
    {
     "name": "stderr",
     "output_type": "stream",
     "text": [
      "/tmp/ipykernel_145561/3466041047.py:25: RuntimeWarning: overflow encountered in square\n",
      "  z = np.exp(s)/(1+np.exp(s))**2\n",
      "/tmp/ipykernel_145561/3466041047.py:13: RuntimeWarning: overflow encountered in exp\n",
      "  denominator = 1 + np.exp(_Y * (_X @ w))\n",
      "/tmp/ipykernel_145561/3466041047.py:25: RuntimeWarning: overflow encountered in exp\n",
      "  z = np.exp(s)/(1+np.exp(s))**2\n",
      "/tmp/ipykernel_145561/3466041047.py:25: RuntimeWarning: invalid value encountered in true_divide\n",
      "  z = np.exp(s)/(1+np.exp(s))**2\n"
     ]
    }
   ],
   "source": [
    "w = np.full(p, 1)\n",
    "\n",
    "out, norm_arr = newton_method(w)"
   ]
  },
  {
   "cell_type": "code",
   "execution_count": 185,
   "id": "8c357dc3",
   "metadata": {},
   "outputs": [
    {
     "data": {
      "text/plain": [
       "array([nan, nan, nan, nan, nan])"
      ]
     },
     "execution_count": 185,
     "metadata": {},
     "output_type": "execute_result"
    }
   ],
   "source": [
    "out[0:5]"
   ]
  },
  {
   "cell_type": "markdown",
   "id": "9414299c",
   "metadata": {},
   "source": [
    "What is happening is that the initial point is not close enough to the local minimum, so as seen in the theory the Newton's method diverges. In order to solve this we must combine Newton's method with line search, this is what we are going to implement in part 3.5."
   ]
  },
  {
   "cell_type": "markdown",
   "id": "9f0d88cc",
   "metadata": {},
   "source": [
    "## Question 3.5"
   ]
  },
  {
   "cell_type": "markdown",
   "id": "d13a146b",
   "metadata": {},
   "source": [
    "Armijo's line search, as to make sure that the line search selects γk = 1 when possible in order to keep the\n",
    "quadratic convergence, we chose a=0,5 and b=1 by default."
   ]
  },
  {
   "cell_type": "code",
   "execution_count": 186,
   "id": "c10ed2e1",
   "metadata": {},
   "outputs": [],
   "source": [
    "def armijo_line(x, _grad, _next_dir, _a=1/2, _b=1, _beta = 1/2):\n",
    "    l = 0\n",
    "    _gamma = _b*_a**l\n",
    "    x_plus = x - _gamma*_next_dir\n",
    "    while log_reg(x_plus) > log_reg(x) + _beta* (_grad @ (x_plus-x)) :\n",
    "        l += 1\n",
    "        _gamma = _b*_a**l\n",
    "        x_plus = x - _gamma*_next_dir\n",
    "    return l"
   ]
  },
  {
   "cell_type": "code",
   "execution_count": 187,
   "id": "8b8dfa17",
   "metadata": {},
   "outputs": [],
   "source": [
    "def newton_armijo_method(x0, eps = 1e-10, max_iter = 50):\n",
    "    x = x0\n",
    "    _iter = 0\n",
    "    a, b , beta = 1/2, 1, 1/2\n",
    "    gamma = 1\n",
    "    norm_arr = []\n",
    "    grad = grad_log_reg(x)\n",
    "    hessian = hessian_log_reg(x)\n",
    "    norm = np.linalg.norm(grad,2)\n",
    "    norm_arr.append(norm)\n",
    "    \n",
    "    while (norm > eps) & (_iter <= max_iter):\n",
    "        _iter += 1\n",
    "        next_dir = np.linalg.inv(hessian) @ grad\n",
    "        gamma = b * a**armijo_line(x, grad, next_dir)\n",
    "        x = x - gamma*next_dir\n",
    "        grad = grad_log_reg(x)\n",
    "        hessian = hessian_log_reg(x)\n",
    "        norm = np.linalg.norm(grad,2)\n",
    "        norm_arr.append(norm)\n",
    "\n",
    "    \n",
    "    return x, norm_arr"
   ]
  },
  {
   "cell_type": "code",
   "execution_count": 188,
   "id": "0e42c6b3",
   "metadata": {
    "scrolled": false
   },
   "outputs": [],
   "source": [
    "#\n",
    "# Choose the starting point\n",
    "#\n",
    "\n",
    "w = np.zeros(p)\n",
    "#w = np.full(p, 1)\n",
    "\n",
    "out_n_a, norm_arr = newton_armijo_method(w)"
   ]
  },
  {
   "cell_type": "code",
   "execution_count": 189,
   "id": "498bd6c4",
   "metadata": {},
   "outputs": [
    {
     "data": {
      "image/png": "[encoded data removed]",
      "text/plain": [
       "<Figure size 432x288 with 1 Axes>"
      ]
     },
     "metadata": {
      "needs_background": "light"
     },
     "output_type": "display_data"
    },
    {
     "name": "stdout",
     "output_type": "stream",
     "text": [
      "The minimizer value is =  0.5681166336576327\n"
     ]
    }
   ],
   "source": [
    "fig, ax = plt.subplots()\n",
    "plt.plot(norm_arr, color=\"b\")\n",
    "plt.xlabel(\"Iteration\")\n",
    "plt.ylabel(\"Gradient's norm\")\n",
    "ax.set_yscale(\"log\")\n",
    "ax.legend([\"Data\"])\n",
    "plt.title(\"Norm of the gradient as a function of iterations in logarithmic scale\")\n",
    "plt.grid()\n",
    "plt.show()\n",
    "\n",
    "print(\"The minimizer value is = \", log_reg(out_n_a))"
   ]
  },
  {
   "cell_type": "markdown",
   "id": "2c3ca6b3",
   "metadata": {},
   "source": [
    "With this approach the Newton's method manages to converge."
   ]
  },
  {
   "cell_type": "markdown",
   "id": "5fb80591",
   "metadata": {},
   "source": [
    "# Part 4"
   ]
  },
  {
   "cell_type": "markdown",
   "id": "8b2df2bf",
   "metadata": {},
   "source": [
    "## Question 4.1"
   ]
  },
  {
   "cell_type": "markdown",
   "id": "a10ce0f9",
   "metadata": {},
   "source": [
    "We can't use Newton's method to solve this problem because the regularizer is not differentiable."
   ]
  },
  {
   "cell_type": "markdown",
   "id": "6ad70ac3",
   "metadata": {},
   "source": [
    "## Question 4.2"
   ]
  },
  {
   "cell_type": "markdown",
   "id": "665cc68e",
   "metadata": {},
   "source": [
    "$\\min _{w_0 \\in \\mathbb{R}, w \\in \\mathbb{R}^p} \\frac{1}{n} \\sum_{i=1}^n \\log \\left(1+\\exp \\left(-y_i\\left(x_i^{\\top} w+w_0\\right)\\right)\\right)+\\rho\\|w\\|_1$\n",
    "\n",
    "The objective function can be written as $F_2 = f_2 + g_2$ where $f_2 = \\frac{1}{n} \\sum_{i=1}^n \\log \\left(1+\\exp \\left(-y_i\\left(x_i^{\\top} w+w_0\\right)\\right)\\right)$ and $g_2 = \\rho\\|w\\|_1$.\n",
    "\n",
    "$\\mathrm{prox}_{g}(x) = \\mathrm{argmin}_{y \\in \\mathbb{R}^p}  \\ {g(y) + \\frac{1}{2} \\| y -x \\|^2 } $\n",
    "\n",
    "In our case we can write proximal as follows $\\mathrm{prox}_{g_2}(x) = \\Big(\\mathrm{sgn}(x_i) \\max(|x_i| - \\rho,0)\\Big)_{i\\in \\{1,...,p\\} }$\n",
    "\n",
    "Similarly as calculated before, the gradient of $f_2$ is:\n",
    "$\\nabla f_2\\left(w_0, \\mathbf{w}\\right)=\\left(\\begin{array}{c}\n",
    "-\\frac{1}{n}\\sum_{i=1}^n y_i \\sigma\\left(-y_i\\left(\\mathbf{x}_i^{\\top} \\mathbf{w}+w_0\\right)\\right) \\\\\n",
    "-\\frac{1}{n}\\sum_{i=1}^n x_{1 i} y_i \\sigma\\left(-y_i\\left(\\mathbf{x}_i^{\\top} \\mathbf{w}+w_0\\right)\\right) \\\\\n",
    "\\vdots \\\\\n",
    "-\\frac{1}{n}\\sum_{i=1}^n x_{p i} y_i \\sigma\\left(-y_i\\left(\\mathbf{x}_i^{\\top} \\mathbf{w}+w_0\\right)\\right)\n",
    "\\end{array}\\right)$ with $\\sigma(x)=\\frac{1}{1+\\exp (-x)}$"
   ]
  },
  {
   "cell_type": "markdown",
   "id": "366cb569",
   "metadata": {},
   "source": [
    "## Question 4.3"
   ]
  },
  {
   "cell_type": "code",
   "execution_count": 190,
   "id": "62b7ce0e",
   "metadata": {},
   "outputs": [],
   "source": [
    "def f2(w, _X = X, _Y = Y):\n",
    "    n= X.shape[0]\n",
    "    sum = 0\n",
    "    sum = (1/n) * np.sum( np.log(1 + np.exp(-_Y * (_X @ w))))\n",
    "    return sum\n",
    "\n",
    "def grad_f2(w, _X = X, _Y = Y):\n",
    "    n= X.shape[0]\n",
    "    sum = 0\n",
    "    denominator = 1 + np.exp(_Y * (_X @ w))\n",
    "    sum = (1/n) * np.sum( (-_Y.reshape(len(_Y),1) * _X) / denominator.reshape(len(denominator),1), axis=0 )\n",
    "    return sum"
   ]
  },
  {
   "cell_type": "code",
   "execution_count": 191,
   "id": "2b8dc2b5",
   "metadata": {},
   "outputs": [
    {
     "data": {
      "text/plain": [
       "4.463432466332193e-06"
      ]
     },
     "execution_count": 191,
     "metadata": {},
     "output_type": "execute_result"
    }
   ],
   "source": [
    "check_grad(f2, grad_f2, np.random.rand(X.shape[1]))"
   ]
  },
  {
   "cell_type": "code",
   "execution_count": 192,
   "id": "ad1a0ed2",
   "metadata": {},
   "outputs": [],
   "source": [
    "#Define Line Search Method\n",
    "\n",
    "def line_search(x, _grad, _a=1/2, _b=1, _beta = 1/2):\n",
    "    l = 0\n",
    "    _gamma = _b*_a**l\n",
    "    x_plus = x - _gamma*_grad\n",
    "    while f2(x_plus) > f2(x) + _beta* (_grad @ (x_plus-x)) :\n",
    "        l += 1\n",
    "        _gamma = _b*_a**l\n",
    "        x_plus = x - _gamma*_grad\n",
    "    return l"
   ]
  },
  {
   "cell_type": "code",
   "execution_count": 193,
   "id": "000bac3c",
   "metadata": {},
   "outputs": [],
   "source": [
    "# Define proximal gradient method\n",
    "\n",
    "def prox_grad(x0, eps = 1e-5, max_iter = 100):\n",
    "    x = x0\n",
    "    arr_zeros = np.zeros(x.shape)\n",
    "    _iter = 0\n",
    "    rho = 0.02\n",
    "    norm_arr = []\n",
    "    a, b , beta = 1/2, 1, 1/2\n",
    "    grad = grad_f2(x)\n",
    "    norm = np.linalg.norm(grad,2)\n",
    "    norm_arr.append(norm)\n",
    "    \n",
    "    while (norm > eps) & (_iter <= max_iter):\n",
    "        _iter += 1\n",
    "        gamma = b * a**line_search(x, grad)\n",
    "        xi = x - gamma*grad\n",
    "        x = np.sign(xi)*np.maximum(np.abs(xi)-rho*gamma,arr_zeros)\n",
    "        grad = grad_f2(x)\n",
    "        norm = np.linalg.norm(grad,2)\n",
    "        norm_arr.append(norm)\n",
    "\n",
    "    \n",
    "    return x, norm_arr\n",
    "\n"
   ]
  },
  {
   "cell_type": "code",
   "execution_count": 194,
   "id": "a379c88d",
   "metadata": {
    "scrolled": true
   },
   "outputs": [],
   "source": [
    "#\n",
    "# Choose what initial point to use\n",
    "#\n",
    "\n",
    "#w = np.full(p,1)\n",
    "w = np.zeros(p)\n",
    "\n",
    "out_prox, norm_arr = prox_grad(w)"
   ]
  },
  {
   "cell_type": "code",
   "execution_count": 195,
   "id": "ace8c071",
   "metadata": {
    "scrolled": false
   },
   "outputs": [
    {
     "data": {
      "image/png": "[encoded data removed]",
      "text/plain": [
       "<Figure size 432x288 with 1 Axes>"
      ]
     },
     "metadata": {
      "needs_background": "light"
     },
     "output_type": "display_data"
    },
    {
     "name": "stdout",
     "output_type": "stream",
     "text": [
      "The minimizer value is =  0.6290119123978519\n"
     ]
    }
   ],
   "source": [
    "fig, ax = plt.subplots()\n",
    "plt.plot(norm_arr, color=\"b\")\n",
    "plt.xlabel(\"Iteration\")\n",
    "plt.ylabel(\"Gradient's norm\")\n",
    "ax.set_yscale(\"log\")\n",
    "ax.legend([\"Data\"])\n",
    "plt.title(\"Norm of the gradient as a function of iterations in logarithmic scale\")\n",
    "plt.grid()\n",
    "plt.show()\n",
    "\n",
    "print(\"The minimizer value is = \", f2(out_prox))"
   ]
  }
 ],
 "metadata": {
  "kernelspec": {
   "display_name": "Python 3 (ipykernel)",
   "language": "python",
   "name": "python3"
  },
  "language_info": {
   "codemirror_mode": {
    "name": "ipython",
    "version": 3
   },
   "file_extension": ".py",
   "mimetype": "text/x-python",
   "name": "python",
   "nbconvert_exporter": "python",
   "pygments_lexer": "ipython3",
   "version": "3.9.12"
  }
 },
 "nbformat": 4,
 "nbformat_minor": 5
}
