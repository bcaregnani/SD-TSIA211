{
  "nbformat": 4,
  "nbformat_minor": 0,
  "metadata": {
    "colab": {
      "provenance": []
    },
    "kernelspec": {
      "name": "python3",
      "display_name": "Python 3"
    },
    "language_info": {
      "name": "python"
    },
    "widgets": {
      "application/vnd.jupyter.widget-state+json": {
        "884653b2d55b4f8c9e350cada6bc44eb": {
          "model_module": "@jupyter-widgets/controls",
          "model_name": "HBoxModel",
          "model_module_version": "1.5.0",
          "state": {
            "_dom_classes": [],
            "_model_module": "@jupyter-widgets/controls",
            "_model_module_version": "1.5.0",
            "_model_name": "HBoxModel",
            "_view_count": null,
            "_view_module": "@jupyter-widgets/controls",
            "_view_module_version": "1.5.0",
            "_view_name": "HBoxView",
            "box_style": "",
            "children": [
              "IPY_MODEL_9b84929c45794f35b785aded15ed8ab3",
              "IPY_MODEL_805bbebd2c4243a0a138d94a9904428c",
              "IPY_MODEL_91495701f53a4d4bb2ef13f246a580a2"
            ],
            "layout": "IPY_MODEL_1137ed10532046a2a79228bebe0511ca"
          }
        },
        "9b84929c45794f35b785aded15ed8ab3": {
          "model_module": "@jupyter-widgets/controls",
          "model_name": "HTMLModel",
          "model_module_version": "1.5.0",
          "state": {
            "_dom_classes": [],
            "_model_module": "@jupyter-widgets/controls",
            "_model_module_version": "1.5.0",
            "_model_name": "HTMLModel",
            "_view_count": null,
            "_view_module": "@jupyter-widgets/controls",
            "_view_module_version": "1.5.0",
            "_view_name": "HTMLView",
            "description": "",
            "description_tooltip": null,
            "layout": "IPY_MODEL_a706e136077e41579138be2ca88982f1",
            "placeholder": "​",
            "style": "IPY_MODEL_0fa187f922df4489af3cbbc7bb371421",
            "value": "100%"
          }
        },
        "805bbebd2c4243a0a138d94a9904428c": {
          "model_module": "@jupyter-widgets/controls",
          "model_name": "FloatProgressModel",
          "model_module_version": "1.5.0",
          "state": {
            "_dom_classes": [],
            "_model_module": "@jupyter-widgets/controls",
            "_model_module_version": "1.5.0",
            "_model_name": "FloatProgressModel",
            "_view_count": null,
            "_view_module": "@jupyter-widgets/controls",
            "_view_module_version": "1.5.0",
            "_view_name": "ProgressView",
            "bar_style": "success",
            "description": "",
            "description_tooltip": null,
            "layout": "IPY_MODEL_7cf27d5460314c3697b2cb0d474cbf7f",
            "max": 60000,
            "min": 0,
            "orientation": "horizontal",
            "style": "IPY_MODEL_b4e22b8b568a44169e690bbf1dc2cae5",
            "value": 60000
          }
        },
        "91495701f53a4d4bb2ef13f246a580a2": {
          "model_module": "@jupyter-widgets/controls",
          "model_name": "HTMLModel",
          "model_module_version": "1.5.0",
          "state": {
            "_dom_classes": [],
            "_model_module": "@jupyter-widgets/controls",
            "_model_module_version": "1.5.0",
            "_model_name": "HTMLModel",
            "_view_count": null,
            "_view_module": "@jupyter-widgets/controls",
            "_view_module_version": "1.5.0",
            "_view_name": "HTMLView",
            "description": "",
            "description_tooltip": null,
            "layout": "IPY_MODEL_593f8b9936854ea2897ea75321283691",
            "placeholder": "​",
            "style": "IPY_MODEL_d48780f522f4449eb9cf7cd177beb1b7",
            "value": " 60000/60000 [15:15&lt;00:00, 67.16it/s]"
          }
        },
        "1137ed10532046a2a79228bebe0511ca": {
          "model_module": "@jupyter-widgets/base",
          "model_name": "LayoutModel",
          "model_module_version": "1.2.0",
          "state": {
            "_model_module": "@jupyter-widgets/base",
            "_model_module_version": "1.2.0",
            "_model_name": "LayoutModel",
            "_view_count": null,
            "_view_module": "@jupyter-widgets/base",
            "_view_module_version": "1.2.0",
            "_view_name": "LayoutView",
            "align_content": null,
            "align_items": null,
            "align_self": null,
            "border": null,
            "bottom": null,
            "display": null,
            "flex": null,
            "flex_flow": null,
            "grid_area": null,
            "grid_auto_columns": null,
            "grid_auto_flow": null,
            "grid_auto_rows": null,
            "grid_column": null,
            "grid_gap": null,
            "grid_row": null,
            "grid_template_areas": null,
            "grid_template_columns": null,
            "grid_template_rows": null,
            "height": null,
            "justify_content": null,
            "justify_items": null,
            "left": null,
            "margin": null,
            "max_height": null,
            "max_width": null,
            "min_height": null,
            "min_width": null,
            "object_fit": null,
            "object_position": null,
            "order": null,
            "overflow": null,
            "overflow_x": null,
            "overflow_y": null,
            "padding": null,
            "right": null,
            "top": null,
            "visibility": null,
            "width": null
          }
        },
        "a706e136077e41579138be2ca88982f1": {
          "model_module": "@jupyter-widgets/base",
          "model_name": "LayoutModel",
          "model_module_version": "1.2.0",
          "state": {
            "_model_module": "@jupyter-widgets/base",
            "_model_module_version": "1.2.0",
            "_model_name": "LayoutModel",
            "_view_count": null,
            "_view_module": "@jupyter-widgets/base",
            "_view_module_version": "1.2.0",
            "_view_name": "LayoutView",
            "align_content": null,
            "align_items": null,
            "align_self": null,
            "border": null,
            "bottom": null,
            "display": null,
            "flex": null,
            "flex_flow": null,
            "grid_area": null,
            "grid_auto_columns": null,
            "grid_auto_flow": null,
            "grid_auto_rows": null,
            "grid_column": null,
            "grid_gap": null,
            "grid_row": null,
            "grid_template_areas": null,
            "grid_template_columns": null,
            "grid_template_rows": null,
            "height": null,
            "justify_content": null,
            "justify_items": null,
            "left": null,
            "margin": null,
            "max_height": null,
            "max_width": null,
            "min_height": null,
            "min_width": null,
            "object_fit": null,
            "object_position": null,
            "order": null,
            "overflow": null,
            "overflow_x": null,
            "overflow_y": null,
            "padding": null,
            "right": null,
            "top": null,
            "visibility": null,
            "width": null
          }
        },
        "0fa187f922df4489af3cbbc7bb371421": {
          "model_module": "@jupyter-widgets/controls",
          "model_name": "DescriptionStyleModel",
          "model_module_version": "1.5.0",
          "state": {
            "_model_module": "@jupyter-widgets/controls",
            "_model_module_version": "1.5.0",
            "_model_name": "DescriptionStyleModel",
            "_view_count": null,
            "_view_module": "@jupyter-widgets/base",
            "_view_module_version": "1.2.0",
            "_view_name": "StyleView",
            "description_width": ""
          }
        },
        "7cf27d5460314c3697b2cb0d474cbf7f": {
          "model_module": "@jupyter-widgets/base",
          "model_name": "LayoutModel",
          "model_module_version": "1.2.0",
          "state": {
            "_model_module": "@jupyter-widgets/base",
            "_model_module_version": "1.2.0",
            "_model_name": "LayoutModel",
            "_view_count": null,
            "_view_module": "@jupyter-widgets/base",
            "_view_module_version": "1.2.0",
            "_view_name": "LayoutView",
            "align_content": null,
            "align_items": null,
            "align_self": null,
            "border": null,
            "bottom": null,
            "display": null,
            "flex": null,
            "flex_flow": null,
            "grid_area": null,
            "grid_auto_columns": null,
            "grid_auto_flow": null,
            "grid_auto_rows": null,
            "grid_column": null,
            "grid_gap": null,
            "grid_row": null,
            "grid_template_areas": null,
            "grid_template_columns": null,
            "grid_template_rows": null,
            "height": null,
            "justify_content": null,
            "justify_items": null,
            "left": null,
            "margin": null,
            "max_height": null,
            "max_width": null,
            "min_height": null,
            "min_width": null,
            "object_fit": null,
            "object_position": null,
            "order": null,
            "overflow": null,
            "overflow_x": null,
            "overflow_y": null,
            "padding": null,
            "right": null,
            "top": null,
            "visibility": null,
            "width": null
          }
        },
        "b4e22b8b568a44169e690bbf1dc2cae5": {
          "model_module": "@jupyter-widgets/controls",
          "model_name": "ProgressStyleModel",
          "model_module_version": "1.5.0",
          "state": {
            "_model_module": "@jupyter-widgets/controls",
            "_model_module_version": "1.5.0",
            "_model_name": "ProgressStyleModel",
            "_view_count": null,
            "_view_module": "@jupyter-widgets/base",
            "_view_module_version": "1.2.0",
            "_view_name": "StyleView",
            "bar_color": null,
            "description_width": ""
          }
        },
        "593f8b9936854ea2897ea75321283691": {
          "model_module": "@jupyter-widgets/base",
          "model_name": "LayoutModel",
          "model_module_version": "1.2.0",
          "state": {
            "_model_module": "@jupyter-widgets/base",
            "_model_module_version": "1.2.0",
            "_model_name": "LayoutModel",
            "_view_count": null,
            "_view_module": "@jupyter-widgets/base",
            "_view_module_version": "1.2.0",
            "_view_name": "LayoutView",
            "align_content": null,
            "align_items": null,
            "align_self": null,
            "border": null,
            "bottom": null,
            "display": null,
            "flex": null,
            "flex_flow": null,
            "grid_area": null,
            "grid_auto_columns": null,
            "grid_auto_flow": null,
            "grid_auto_rows": null,
            "grid_column": null,
            "grid_gap": null,
            "grid_row": null,
            "grid_template_areas": null,
            "grid_template_columns": null,
            "grid_template_rows": null,
            "height": null,
            "justify_content": null,
            "justify_items": null,
            "left": null,
            "margin": null,
            "max_height": null,
            "max_width": null,
            "min_height": null,
            "min_width": null,
            "object_fit": null,
            "object_position": null,
            "order": null,
            "overflow": null,
            "overflow_x": null,
            "overflow_y": null,
            "padding": null,
            "right": null,
            "top": null,
            "visibility": null,
            "width": null
          }
        },
        "d48780f522f4449eb9cf7cd177beb1b7": {
          "model_module": "@jupyter-widgets/controls",
          "model_name": "DescriptionStyleModel",
          "model_module_version": "1.5.0",
          "state": {
            "_model_module": "@jupyter-widgets/controls",
            "_model_module_version": "1.5.0",
            "_model_name": "DescriptionStyleModel",
            "_view_count": null,
            "_view_module": "@jupyter-widgets/base",
            "_view_module_version": "1.2.0",
            "_view_name": "StyleView",
            "description_width": ""
          }
        }
      }
    }
  },
  "cells": [
    {
      "cell_type": "markdown",
      "source": [
        "# Computer Lab: Digit recognition\n",
        "## SD-TSIA \n",
        "\n",
        "Bruno Pons"
      ],
      "metadata": {
        "id": "YrA5qfUlUh_e"
      }
    },
    {
      "cell_type": "code",
      "source": [
        "# Imports\n",
        "\n",
        "import numpy as np\n",
        "import tensorflow as tf\n",
        "from tensorflow import keras\n",
        "from tensorflow.keras import layers\n",
        "import matplotlib.pyplot as plt\n",
        "from tqdm.notebook import tqdm"
      ],
      "metadata": {
        "id": "dnF6im4nUgYq"
      },
      "execution_count": 1,
      "outputs": []
    },
    {
      "cell_type": "code",
      "source": [
        "\n",
        "train_data, test_data = tf.keras.datasets.mnist.load_data(path=\"mnist.npz\")\n",
        "x_train = train_data[0].reshape(-1,784).astype(float) / 255\n",
        "y_train = train_data[1]\n",
        "x_test = test_data[0].reshape(-1,784).astype(float) / 255\n",
        "y_test = test_data[1]\n",
        "print(y_train[0])\n",
        "plt.imshow(train_data[0][0], cmap='gray')\n",
        "\n",
        "\n",
        "\n",
        "## Updating weights\n",
        "\n",
        "def update_weights(model, update):\n",
        "    new_weights = model.trainable_weights.copy()\n",
        "    for i in range(len(new_weights)):\n",
        "        new_weights[i] = new_weights[i] + update[i]\n",
        "    model.set_weights(new_weights)\n"
      ],
      "metadata": {
        "id": "JHD0QmksUsc8",
        "colab": {
          "base_uri": "https://localhost:8080/",
          "height": 282
        },
        "outputId": "e04c588f-0912-4c2e-bf86-c78999c7b633"
      },
      "execution_count": 2,
      "outputs": [
        {
          "output_type": "stream",
          "name": "stdout",
          "text": [
            "5\n"
          ]
        },
        {
          "output_type": "display_data",
          "data": {
            "text/plain": [
              "<Figure size 432x288 with 1 Axes>"
            ],
            "image/png": "[encoded data removed]"
          },
          "metadata": {
            "needs_background": "light"
          }
        }
      ]
    },
    {
      "cell_type": "code",
      "source": [
        "# source: https://keras.io/guides/training_with_built_in_methods/\n",
        "\n",
        "inputs = keras.Input(shape=(784,), name=\"digits\")\n",
        "x = layers.Dense(32, activation=\"relu\", name=\"dense_1\")(inputs)\n",
        "x = layers.Dense(32, activation=\"relu\", name=\"dense_2\")(x)\n",
        "outputs = layers.Dense(10, activation=None, name=\"predictions\")(x)\n",
        "model = keras.Model(inputs=inputs, outputs=outputs, name=\"mnist_model\")\n",
        "loss = keras.losses.SparseCategoricalCrossentropy(from_logits=True)\n",
        "#def loss(true, pred):\n",
        "#    val = 0.\n",
        "#    for i in range(len(true)):\n",
        "#        val -= np.log(pred[i, true[i]])\n",
        "#    return val / len(true)\n",
        "model.summary()\n",
        "\n",
        "initial_weight = model.trainable_weights.copy()"
      ],
      "metadata": {
        "id": "BSZquIfKc9iM",
        "colab": {
          "base_uri": "https://localhost:8080/"
        },
        "outputId": "43c5ce10-bd9c-4825-a628-6251f12bca3d"
      },
      "execution_count": 3,
      "outputs": [
        {
          "output_type": "stream",
          "name": "stdout",
          "text": [
            "Model: \"mnist_model\"\n",
            "_________________________________________________________________\n",
            " Layer (type)                Output Shape              Param #   \n",
            "=================================================================\n",
            " digits (InputLayer)         [(None, 784)]             0         \n",
            "                                                                 \n",
            " dense_1 (Dense)             (None, 32)                25120     \n",
            "                                                                 \n",
            " dense_2 (Dense)             (None, 32)                1056      \n",
            "                                                                 \n",
            " predictions (Dense)         (None, 10)                330       \n",
            "                                                                 \n",
            "=================================================================\n",
            "Total params: 26,506\n",
            "Trainable params: 26,506\n",
            "Non-trainable params: 0\n",
            "_________________________________________________________________\n"
          ]
        }
      ]
    },
    {
      "cell_type": "markdown",
      "source": [
        "## 4 Model"
      ],
      "metadata": {
        "id": "E439yJ1rZ0ZV"
      }
    },
    {
      "cell_type": "markdown",
      "source": [
        "Question 4.1"
      ],
      "metadata": {
        "id": "qO-lDqTwZ7is"
      }
    },
    {
      "cell_type": "markdown",
      "source": [
        "The number of optimization variables that we are going to train using this model are 785\\*32 + 33\\*32 + 33\\*10 = 26506"
      ],
      "metadata": {
        "id": "gxohlUwFa-O5"
      }
    },
    {
      "cell_type": "markdown",
      "source": [
        "## Questions 5 and 6:"
      ],
      "metadata": {
        "id": "u-ZnRucLexSA"
      }
    },
    {
      "cell_type": "code",
      "source": [
        "def random_batch(x_train, y_train, batch_size=1):\n",
        "      n = x_train.shape[0]\n",
        "      idx = np.arange(n)\n",
        "      np.random.shuffle(idx)\n",
        "      list_batch = []\n",
        "      for k in range( n // batch_size ):\n",
        "              index_batch = idx[k*batch_size: (k+1)*batch_size]\n",
        "              list_batch.append((x_train[index_batch],y_train[index_batch]))\n",
        "      return list_batch"
      ],
      "metadata": {
        "id": "pZKnYXskuLs_"
      },
      "execution_count": 4,
      "outputs": []
    },
    {
      "cell_type": "code",
      "source": [
        "\n",
        "\n",
        "def sgd(model, x_train, y_train, batch_size=1, step=0.1, n_epochs=1):\n",
        "      batch_list = random_batch(x_train, y_train, batch_size)\n",
        "      grad_iter = 0\n",
        "      obj_val = []\n",
        "      for k in range(n_epochs):\n",
        "      \n",
        "            for i in tqdm(range(len(batch_list))):\n",
        "                    x_train_batch, y_train_batch = batch_list[i]\n",
        "                    stepi = (step/np.sqrt(i+1))*(1/batch_size)\n",
        "                    with tf.GradientTape() as tape:\n",
        "                            # Run the forward pass of the layer.\n",
        "                            # The operations that the layer applies\n",
        "                            # to its inputs are going to be recorded\n",
        "                            # on the GradientTape.\n",
        "                            logits = model(x_train_batch)  # Logits for this minibatch\n",
        "\n",
        "                            # Compute the loss value for this minibatch.\n",
        "                            loss_value = loss(y_train_batch, logits)\n",
        "\n",
        "                    # Use the gradient tape to automatically retrieve\n",
        "                    # the gradients of the trainable variables with respect to the loss.\n",
        "                    grad = tape.gradient(loss_value, model.trainable_weights)\n",
        "                    \n",
        "                    ## Evaluate model\n",
        "                    samples_for_evaluation = np.random.randint(0, 10000, 1000)\n",
        "                    logits = model(x_train[samples_for_evaluation])\n",
        "                    obj = loss(y_train[samples_for_evaluation], logits).numpy()\n",
        "\n",
        "\n",
        "                    obj_val.append(obj)\n",
        "                    update = [ -stepi*g  for g in grad ]\n",
        "                    update_weights(model,update)\n",
        "                    grad_iter += 1\n",
        "\n",
        "      \n",
        "      fig, ax = plt.subplots()\n",
        "      plt.plot(np.arange(grad_iter), obj_val , color=\"r\", label= \"My ridge\")\n",
        "      plt.xlabel(\"Iteration\")\n",
        "      plt.ylabel(\"Objective value\")\n",
        "      ax.legend()\n",
        "      plt.title(\"Objecive value in function of iteration\")\n",
        "      plt.grid()\n",
        "      plt.show()"
      ],
      "metadata": {
        "id": "A1dKj083iU0P"
      },
      "execution_count": 5,
      "outputs": []
    },
    {
      "cell_type": "code",
      "source": [
        "model.set_weights(initial_weight)\n",
        "\n",
        "sgd(model, x_train, y_train)"
      ],
      "metadata": {
        "colab": {
          "base_uri": "https://localhost:8080/",
          "height": 327,
          "referenced_widgets": [
            "884653b2d55b4f8c9e350cada6bc44eb",
            "9b84929c45794f35b785aded15ed8ab3",
            "805bbebd2c4243a0a138d94a9904428c",
            "91495701f53a4d4bb2ef13f246a580a2",
            "1137ed10532046a2a79228bebe0511ca",
            "a706e136077e41579138be2ca88982f1",
            "0fa187f922df4489af3cbbc7bb371421",
            "7cf27d5460314c3697b2cb0d474cbf7f",
            "b4e22b8b568a44169e690bbf1dc2cae5",
            "593f8b9936854ea2897ea75321283691",
            "d48780f522f4449eb9cf7cd177beb1b7"
          ]
        },
        "id": "l5puO-PSyX6s",
        "outputId": "92c7e9fd-e56b-46bb-ce0e-7aca1ff0c732"
      },
      "execution_count": 6,
      "outputs": [
        {
          "output_type": "display_data",
          "data": {
            "text/plain": [
              "  0%|          | 0/60000 [00:00<?, ?it/s]"
            ],
            "application/vnd.jupyter.widget-view+json": {
              "version_major": 2,
              "version_minor": 0,
              "model_id": "884653b2d55b4f8c9e350cada6bc44eb"
            }
          },
          "metadata": {}
        },
        {
          "output_type": "display_data",
          "data": {
            "text/plain": [
              "<Figure size 432x288 with 1 Axes>"
            ],
            "image/png": "[encoded data removed]"
          },
          "metadata": {
            "needs_background": "light"
          }
        }
      ]
    },
    {
      "cell_type": "markdown",
      "source": [
        "## Question 7"
      ],
      "metadata": {
        "id": "GhSIg3qXcrMH"
      }
    },
    {
      "cell_type": "code",
      "source": [
        "logits = model(x_train)\n",
        "acc_train = loss(y_train, logits).numpy()\n",
        "\n",
        "logits = model(x_test)\n",
        "acc_test = loss(y_test, logits).numpy()\n",
        "\n",
        "print(\"Accuracy for train data: \", acc_train, \"Accuracy for test data: \", acc_test)"
      ],
      "metadata": {
        "id": "RBgj9BY6b7p-",
        "colab": {
          "base_uri": "https://localhost:8080/"
        },
        "outputId": "56f9a2a2-09f3-4b32-8893-7e31c45e3cca"
      },
      "execution_count": 7,
      "outputs": [
        {
          "output_type": "stream",
          "name": "stdout",
          "text": [
            "Accuracy for train data:  0.2857701 Accuracy for test data:  0.27604917\n"
          ]
        }
      ]
    }
  ]
}